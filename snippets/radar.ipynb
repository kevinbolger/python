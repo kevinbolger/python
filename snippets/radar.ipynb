{
 "cells": [
  {
   "cell_type": "code",
   "execution_count": 1,
   "metadata": {},
   "outputs": [
    {
     "data": {
      "text/html": [
       "<script>requirejs.config({paths: { 'plotly': ['https://cdn.plot.ly/plotly-latest.min']},});if(!window.Plotly) {{require(['plotly'],function(plotly) {window.Plotly=plotly;});}}</script>"
      ],
      "text/vnd.plotly.v1+html": [
       "<script>requirejs.config({paths: { 'plotly': ['https://cdn.plot.ly/plotly-latest.min']},});if(!window.Plotly) {{require(['plotly'],function(plotly) {window.Plotly=plotly;});}}</script>"
      ]
     },
     "metadata": {},
     "output_type": "display_data"
    },
    {
     "data": {
      "application/vnd.plotly.v1+json": {
       "data": [
        {
         "fill": "toself",
         "line": {
          "color": "blue",
          "dash": "solid",
          "shape": "spline",
          "smoothing": 1.3
         },
         "name": "values",
         "r": [
          10.1,
          14,
          17,
          16,
          19.9,
          14,
          10.1
         ],
         "subplot": "polar",
         "theta": [
          "x1",
          "x2",
          "x3",
          "x4",
          "x5",
          "x6",
          "x7"
         ],
         "type": "scatterpolar",
         "uid": "e1c10a5e-d4cb-11e8-8854-8c8590188685"
        },
        {
         "fill": "toself",
         "line": {
          "color": "blue",
          "dash": "solid",
          "shape": "spline",
          "smoothing": 1.3
         },
         "name": "log_values",
         "r": [
          10.1,
          14,
          17,
          16,
          19.9,
          14,
          10.1
         ],
         "subplot": "polar2",
         "theta": [
          "x1",
          "x2",
          "x3",
          "x4",
          "x5",
          "x6",
          "x7"
         ],
         "type": "scatterpolar",
         "uid": "e1c10cc0-d4cb-11e8-8854-8c8590188685"
        },
        {
         "fill": "none",
         "line": {
          "color": "red",
          "dash": "dash",
          "shape": "spline",
          "smoothing": 1.3
         },
         "name": "ucl",
         "r": [
          20,
          20,
          20,
          20,
          20,
          20,
          20
         ],
         "subplot": "polar",
         "theta": [
          "x1",
          "x2",
          "x3",
          "x4",
          "x5",
          "x6",
          "x7"
         ],
         "type": "scatterpolar",
         "uid": "e1c10d74-d4cb-11e8-8854-8c8590188685"
        },
        {
         "fill": "none",
         "line": {
          "color": "red",
          "dash": "dash",
          "shape": "spline",
          "smoothing": 1.3
         },
         "name": "lcl",
         "r": [
          10,
          10,
          10,
          10,
          10,
          10,
          10
         ],
         "subplot": "polar",
         "theta": [
          "x1",
          "x2",
          "x3",
          "x4",
          "x5",
          "x6",
          "x7"
         ],
         "type": "scatterpolar",
         "uid": "e1c10e0a-d4cb-11e8-8854-8c8590188685"
        },
        {
         "fill": "none",
         "line": {
          "color": "green",
          "dash": "dash",
          "shape": "spline",
          "smoothing": 1.3
         },
         "name": "mean",
         "r": [
          15,
          15,
          15,
          15,
          15,
          15,
          15
         ],
         "subplot": "polar",
         "theta": [
          "x1",
          "x2",
          "x3",
          "x4",
          "x5",
          "x6",
          "x7"
         ],
         "type": "scatterpolar",
         "uid": "e1c10e8c-d4cb-11e8-8854-8c8590188685"
        },
        {
         "fill": "none",
         "line": {
          "color": "red",
          "dash": "dash",
          "shape": "spline",
          "smoothing": 1.3
         },
         "name": "log_ucl",
         "r": [
          20,
          20,
          20,
          20,
          20,
          20,
          20
         ],
         "subplot": "polar2",
         "theta": [
          "x1",
          "x2",
          "x3",
          "x4",
          "x5",
          "x6",
          "x7"
         ],
         "type": "scatterpolar",
         "uid": "e1c10f0e-d4cb-11e8-8854-8c8590188685"
        },
        {
         "fill": "none",
         "line": {
          "color": "red",
          "dash": "dash",
          "shape": "spline",
          "smoothing": 1.3
         },
         "name": "log_lcl",
         "r": [
          10,
          10,
          10,
          10,
          10,
          10,
          10
         ],
         "subplot": "polar2",
         "theta": [
          "x1",
          "x2",
          "x3",
          "x4",
          "x5",
          "x6",
          "x7"
         ],
         "type": "scatterpolar",
         "uid": "e1c10f86-d4cb-11e8-8854-8c8590188685"
        },
        {
         "fill": "none",
         "line": {
          "color": "green",
          "dash": "dash",
          "shape": "spline",
          "smoothing": 1.3
         },
         "name": "log_mean",
         "r": [
          15,
          15,
          15,
          15,
          15,
          15,
          15
         ],
         "subplot": "polar2",
         "theta": [
          "x1",
          "x2",
          "x3",
          "x4",
          "x5",
          "x6",
          "x7"
         ],
         "type": "scatterpolar",
         "uid": "e1c10ffe-d4cb-11e8-8854-8c8590188685"
        }
       ],
       "layout": {
        "autosize": true,
        "polar": {
         "domain": {
          "x": [
           0,
           0.42
          ],
          "y": [
           0,
           1
          ]
         },
         "radialaxis": {
          "autorange": true,
          "range": [
           0,
           25
          ],
          "type": "linear"
         }
        },
        "polar2": {
         "domain": {
          "x": [
           0.58,
           1
          ],
          "y": [
           0,
           1
          ]
         },
         "radialaxis": {
          "autorange": true,
          "type": "log"
         }
        }
       }
      },
      "text/html": [
       "<div id=\"bcf98a4f-d6f2-4028-875e-b152841591de\" style=\"height: 525px; width: 100%;\" class=\"plotly-graph-div\"></div><script type=\"text/javascript\">require([\"plotly\"], function(Plotly) { window.PLOTLYENV=window.PLOTLYENV || {};window.PLOTLYENV.BASE_URL=\"https://plot.ly\";Plotly.newPlot(\"bcf98a4f-d6f2-4028-875e-b152841591de\", [{\"fill\": \"toself\", \"line\": {\"color\": \"blue\", \"dash\": \"solid\", \"shape\": \"spline\", \"smoothing\": 1.3}, \"name\": \"values\", \"r\": [10.1, 14, 17, 16, 19.9, 14, 10.1], \"subplot\": \"polar\", \"theta\": [\"x1\", \"x2\", \"x3\", \"x4\", \"x5\", \"x6\", \"x7\"], \"type\": \"scatterpolar\", \"uid\": \"e1c10a5e-d4cb-11e8-8854-8c8590188685\"}, {\"fill\": \"toself\", \"line\": {\"color\": \"blue\", \"dash\": \"solid\", \"shape\": \"spline\", \"smoothing\": 1.3}, \"name\": \"log_values\", \"r\": [10.1, 14, 17, 16, 19.9, 14, 10.1], \"subplot\": \"polar2\", \"theta\": [\"x1\", \"x2\", \"x3\", \"x4\", \"x5\", \"x6\", \"x7\"], \"type\": \"scatterpolar\", \"uid\": \"e1c10cc0-d4cb-11e8-8854-8c8590188685\"}, {\"fill\": \"none\", \"line\": {\"color\": \"red\", \"dash\": \"dash\", \"shape\": \"spline\", \"smoothing\": 1.3}, \"name\": \"ucl\", \"r\": [20, 20, 20, 20, 20, 20, 20], \"subplot\": \"polar\", \"theta\": [\"x1\", \"x2\", \"x3\", \"x4\", \"x5\", \"x6\", \"x7\"], \"type\": \"scatterpolar\", \"uid\": \"e1c10d74-d4cb-11e8-8854-8c8590188685\"}, {\"fill\": \"none\", \"line\": {\"color\": \"red\", \"dash\": \"dash\", \"shape\": \"spline\", \"smoothing\": 1.3}, \"name\": \"lcl\", \"r\": [10, 10, 10, 10, 10, 10, 10], \"subplot\": \"polar\", \"theta\": [\"x1\", \"x2\", \"x3\", \"x4\", \"x5\", \"x6\", \"x7\"], \"type\": \"scatterpolar\", \"uid\": \"e1c10e0a-d4cb-11e8-8854-8c8590188685\"}, {\"fill\": \"none\", \"line\": {\"color\": \"green\", \"dash\": \"dash\", \"shape\": \"spline\", \"smoothing\": 1.3}, \"name\": \"mean\", \"r\": [15, 15, 15, 15, 15, 15, 15], \"subplot\": \"polar\", \"theta\": [\"x1\", \"x2\", \"x3\", \"x4\", \"x5\", \"x6\", \"x7\"], \"type\": \"scatterpolar\", \"uid\": \"e1c10e8c-d4cb-11e8-8854-8c8590188685\"}, {\"fill\": \"none\", \"line\": {\"color\": \"red\", \"dash\": \"dash\", \"shape\": \"spline\", \"smoothing\": 1.3}, \"name\": \"log_ucl\", \"r\": [20, 20, 20, 20, 20, 20, 20], \"subplot\": \"polar2\", \"theta\": [\"x1\", \"x2\", \"x3\", \"x4\", \"x5\", \"x6\", \"x7\"], \"type\": \"scatterpolar\", \"uid\": \"e1c10f0e-d4cb-11e8-8854-8c8590188685\"}, {\"fill\": \"none\", \"line\": {\"color\": \"red\", \"dash\": \"dash\", \"shape\": \"spline\", \"smoothing\": 1.3}, \"name\": \"log_lcl\", \"r\": [10, 10, 10, 10, 10, 10, 10], \"subplot\": \"polar2\", \"theta\": [\"x1\", \"x2\", \"x3\", \"x4\", \"x5\", \"x6\", \"x7\"], \"type\": \"scatterpolar\", \"uid\": \"e1c10f86-d4cb-11e8-8854-8c8590188685\"}, {\"fill\": \"none\", \"line\": {\"color\": \"green\", \"dash\": \"dash\", \"shape\": \"spline\", \"smoothing\": 1.3}, \"name\": \"log_mean\", \"r\": [15, 15, 15, 15, 15, 15, 15], \"subplot\": \"polar2\", \"theta\": [\"x1\", \"x2\", \"x3\", \"x4\", \"x5\", \"x6\", \"x7\"], \"type\": \"scatterpolar\", \"uid\": \"e1c10ffe-d4cb-11e8-8854-8c8590188685\"}], {\"autosize\": true, \"polar\": {\"domain\": {\"x\": [0, 0.42], \"y\": [0, 1]}, \"radialaxis\": {\"autorange\": true, \"range\": [0, 25], \"type\": \"linear\"}}, \"polar2\": {\"domain\": {\"x\": [0.58, 1], \"y\": [0, 1]}, \"radialaxis\": {\"autorange\": true, \"type\": \"log\"}}}, {\"showLink\": true, \"linkText\": \"Export to plot.ly\"})});</script>"
      ],
      "text/vnd.plotly.v1+html": [
       "<div id=\"bcf98a4f-d6f2-4028-875e-b152841591de\" style=\"height: 525px; width: 100%;\" class=\"plotly-graph-div\"></div><script type=\"text/javascript\">require([\"plotly\"], function(Plotly) { window.PLOTLYENV=window.PLOTLYENV || {};window.PLOTLYENV.BASE_URL=\"https://plot.ly\";Plotly.newPlot(\"bcf98a4f-d6f2-4028-875e-b152841591de\", [{\"fill\": \"toself\", \"line\": {\"color\": \"blue\", \"dash\": \"solid\", \"shape\": \"spline\", \"smoothing\": 1.3}, \"name\": \"values\", \"r\": [10.1, 14, 17, 16, 19.9, 14, 10.1], \"subplot\": \"polar\", \"theta\": [\"x1\", \"x2\", \"x3\", \"x4\", \"x5\", \"x6\", \"x7\"], \"type\": \"scatterpolar\", \"uid\": \"e1c10a5e-d4cb-11e8-8854-8c8590188685\"}, {\"fill\": \"toself\", \"line\": {\"color\": \"blue\", \"dash\": \"solid\", \"shape\": \"spline\", \"smoothing\": 1.3}, \"name\": \"log_values\", \"r\": [10.1, 14, 17, 16, 19.9, 14, 10.1], \"subplot\": \"polar2\", \"theta\": [\"x1\", \"x2\", \"x3\", \"x4\", \"x5\", \"x6\", \"x7\"], \"type\": \"scatterpolar\", \"uid\": \"e1c10cc0-d4cb-11e8-8854-8c8590188685\"}, {\"fill\": \"none\", \"line\": {\"color\": \"red\", \"dash\": \"dash\", \"shape\": \"spline\", \"smoothing\": 1.3}, \"name\": \"ucl\", \"r\": [20, 20, 20, 20, 20, 20, 20], \"subplot\": \"polar\", \"theta\": [\"x1\", \"x2\", \"x3\", \"x4\", \"x5\", \"x6\", \"x7\"], \"type\": \"scatterpolar\", \"uid\": \"e1c10d74-d4cb-11e8-8854-8c8590188685\"}, {\"fill\": \"none\", \"line\": {\"color\": \"red\", \"dash\": \"dash\", \"shape\": \"spline\", \"smoothing\": 1.3}, \"name\": \"lcl\", \"r\": [10, 10, 10, 10, 10, 10, 10], \"subplot\": \"polar\", \"theta\": [\"x1\", \"x2\", \"x3\", \"x4\", \"x5\", \"x6\", \"x7\"], \"type\": \"scatterpolar\", \"uid\": \"e1c10e0a-d4cb-11e8-8854-8c8590188685\"}, {\"fill\": \"none\", \"line\": {\"color\": \"green\", \"dash\": \"dash\", \"shape\": \"spline\", \"smoothing\": 1.3}, \"name\": \"mean\", \"r\": [15, 15, 15, 15, 15, 15, 15], \"subplot\": \"polar\", \"theta\": [\"x1\", \"x2\", \"x3\", \"x4\", \"x5\", \"x6\", \"x7\"], \"type\": \"scatterpolar\", \"uid\": \"e1c10e8c-d4cb-11e8-8854-8c8590188685\"}, {\"fill\": \"none\", \"line\": {\"color\": \"red\", \"dash\": \"dash\", \"shape\": \"spline\", \"smoothing\": 1.3}, \"name\": \"log_ucl\", \"r\": [20, 20, 20, 20, 20, 20, 20], \"subplot\": \"polar2\", \"theta\": [\"x1\", \"x2\", \"x3\", \"x4\", \"x5\", \"x6\", \"x7\"], \"type\": \"scatterpolar\", \"uid\": \"e1c10f0e-d4cb-11e8-8854-8c8590188685\"}, {\"fill\": \"none\", \"line\": {\"color\": \"red\", \"dash\": \"dash\", \"shape\": \"spline\", \"smoothing\": 1.3}, \"name\": \"log_lcl\", \"r\": [10, 10, 10, 10, 10, 10, 10], \"subplot\": \"polar2\", \"theta\": [\"x1\", \"x2\", \"x3\", \"x4\", \"x5\", \"x6\", \"x7\"], \"type\": \"scatterpolar\", \"uid\": \"e1c10f86-d4cb-11e8-8854-8c8590188685\"}, {\"fill\": \"none\", \"line\": {\"color\": \"green\", \"dash\": \"dash\", \"shape\": \"spline\", \"smoothing\": 1.3}, \"name\": \"log_mean\", \"r\": [15, 15, 15, 15, 15, 15, 15], \"subplot\": \"polar2\", \"theta\": [\"x1\", \"x2\", \"x3\", \"x4\", \"x5\", \"x6\", \"x7\"], \"type\": \"scatterpolar\", \"uid\": \"e1c10ffe-d4cb-11e8-8854-8c8590188685\"}], {\"autosize\": true, \"polar\": {\"domain\": {\"x\": [0, 0.42], \"y\": [0, 1]}, \"radialaxis\": {\"autorange\": true, \"range\": [0, 25], \"type\": \"linear\"}}, \"polar2\": {\"domain\": {\"x\": [0.58, 1], \"y\": [0, 1]}, \"radialaxis\": {\"autorange\": true, \"type\": \"log\"}}}, {\"showLink\": true, \"linkText\": \"Export to plot.ly\"})});</script>"
      ]
     },
     "metadata": {},
     "output_type": "display_data"
    }
   ],
   "source": [
    "from plotly.offline import init_notebook_mode, iplot\n",
    "init_notebook_mode(connected=True)\n",
    "import plotly.graph_objs as go\n",
    "\n",
    "\n",
    "def myRadar(r, theta, name, fill = 'toself', color = 'blue', subplot = 'polar', dash = 'solid'):\n",
    "    fig = go.Scatterpolar(\n",
    "        r = r,\n",
    "        theta = theta,\n",
    "        fill = fill,\n",
    "        name = name,\n",
    "        line =  dict(\n",
    "            shape = 'spline',\n",
    "            smoothing = 1.3,\n",
    "            color = color,\n",
    "            dash = dash \n",
    "        ),\n",
    "        subplot = subplot\n",
    "    )\n",
    "    return fig\n",
    "\n",
    "values = [10.1, 14, 17, 16, 19.9, 14, 10.1]\n",
    "ucl = [20, 20, 20, 20, 20, 20, 20]\n",
    "lcl = [10, 10, 10, 10, 10, 10, 10]\n",
    "mean = [15, 15, 15, 15, 15, 15, 15]\n",
    "params = ['x1','x2','x3', 'x4', 'x5', 'x6','x7']\n",
    "\n",
    "\n",
    "data = [\n",
    "    myRadar(values,params,'values','toself','blue', 'polar', 'solid'),\n",
    "    myRadar(values,params,'log_values','toself','blue', 'polar2', 'solid'),\n",
    "    myRadar(ucl,params,'ucl','none','red','polar', 'dash'),\n",
    "    myRadar(lcl,params,'lcl','none','red', 'polar', 'dash'),\n",
    "    myRadar(mean,params,'mean','none','green', 'polar', 'dash'),\n",
    "    myRadar(ucl,params,'log_ucl','none','red', 'polar2', 'dash'),\n",
    "    myRadar(lcl,params,'log_lcl','none','red', 'polar2', 'dash'),\n",
    "    myRadar(mean,params,'log_mean','none','green', 'polar2', 'dash')\n",
    "]\n",
    "\n",
    "layout = {\n",
    "  \"autosize\": True, \n",
    "  \"polar\": {\"radialaxis\": {\n",
    "      \"autorange\": True, \n",
    "      \"range\": [0,25], \n",
    "      \"type\": \"linear\"\n",
    "    },\n",
    "    'domain': {'x': [0, .42],\n",
    "                   'y': [0, 1]},\n",
    "  }, \n",
    "  \"polar2\": {\n",
    "      \"radialaxis\": {\n",
    "          \"autorange\": True, \n",
    "          \"type\": \"log\"\n",
    "        },\n",
    "    'domain': {'x': [0.58, 1],\n",
    "                   'y': [0, 1]},\n",
    "      \n",
    "  }\n",
    "}\n",
    "\n",
    "iplot(go.Figure(data=data,layout = layout))"
   ]
  }
 ],
 "metadata": {
  "kernelspec": {
   "display_name": "Python 3",
   "language": "python",
   "name": "python3"
  },
  "language_info": {
   "codemirror_mode": {
    "name": "ipython",
    "version": 3
   },
   "file_extension": ".py",
   "mimetype": "text/x-python",
   "name": "python",
   "nbconvert_exporter": "python",
   "pygments_lexer": "ipython3",
   "version": "3.7.0"
  }
 },
 "nbformat": 4,
 "nbformat_minor": 2
}
